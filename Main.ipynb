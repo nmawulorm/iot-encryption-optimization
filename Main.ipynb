{
 "cells": [
  {
   "cell_type": "markdown",
   "id": "6365734d5dba1bbd",
   "metadata": {},
   "source": [
    "# Phase 1"
   ]
  },
  {
   "cell_type": "markdown",
   "id": "82458ffcbd31f2a8",
   "metadata": {},
   "source": [
    "## Loading data set"
   ]
  },
  {
   "cell_type": "code",
   "id": "initial_id",
   "metadata": {
    "collapsed": true,
    "ExecuteTime": {
     "end_time": "2025-06-25T19:17:07.831024Z",
     "start_time": "2025-06-25T19:17:06.311669Z"
    }
   },
   "source": [
    "import pandas as pd\n",
    "\n",
    "# Load the dataset (adjust the path if needed)\n",
    "df = pd.read_csv(\"training-data/iot_main_synthetic_dataset.csv\")\n",
    "\n",
    "# Preview the data\n",
    "df.head()\n"
   ],
   "outputs": [
    {
     "data": {
      "text/plain": [
       "                              device_id           sensor_name  \\\n",
       "0  35c3dee3-0b58-4ddb-b71a-cb627ed163f3  RFID_patient_tracker   \n",
       "1  953120f5-d9e7-43cf-8cfa-e041c8ac2bd9  RFID_patient_tracker   \n",
       "2  6d6f46f1-f524-4a2a-9f22-e0c474d26a0e    temperature_sensor   \n",
       "3  b542fadc-8b2a-4452-8ce4-c6768934fb5a       humidity_sensor   \n",
       "4  b6fa9848-fbc6-4f12-b638-343c04cfc280    temperature_sensor   \n",
       "\n",
       "         sensor_type               device_type     location  \\\n",
       "0  location_tracking  location_tracking_device         Ward   \n",
       "1  location_tracking  location_tracking_device         Ward   \n",
       "2        temperature        temperature_device  Server Room   \n",
       "3      environmental      environmental_device  Data Center   \n",
       "4        temperature        temperature_device  Server Room   \n",
       "\n",
       "                    timestamp  value unit   status sensitivity_label  \n",
       "0  2025-06-22T22:24:55.435760  73.66    %     idle         Sensitive  \n",
       "1  2025-06-25T14:54:55.435890     ON   °C     idle         Sensitive  \n",
       "2  2025-06-20T13:30:55.436043  18.15    %   active     Non-sensitive  \n",
       "3  2025-06-22T07:48:55.436438     ON  bpm  offline     Non-sensitive  \n",
       "4  2025-06-23T13:29:55.436903    OFF  lux     idle     Non-sensitive  "
      ],
      "text/html": [
       "<div>\n",
       "<style scoped>\n",
       "    .dataframe tbody tr th:only-of-type {\n",
       "        vertical-align: middle;\n",
       "    }\n",
       "\n",
       "    .dataframe tbody tr th {\n",
       "        vertical-align: top;\n",
       "    }\n",
       "\n",
       "    .dataframe thead th {\n",
       "        text-align: right;\n",
       "    }\n",
       "</style>\n",
       "<table border=\"1\" class=\"dataframe\">\n",
       "  <thead>\n",
       "    <tr style=\"text-align: right;\">\n",
       "      <th></th>\n",
       "      <th>device_id</th>\n",
       "      <th>sensor_name</th>\n",
       "      <th>sensor_type</th>\n",
       "      <th>device_type</th>\n",
       "      <th>location</th>\n",
       "      <th>timestamp</th>\n",
       "      <th>value</th>\n",
       "      <th>unit</th>\n",
       "      <th>status</th>\n",
       "      <th>sensitivity_label</th>\n",
       "    </tr>\n",
       "  </thead>\n",
       "  <tbody>\n",
       "    <tr>\n",
       "      <th>0</th>\n",
       "      <td>35c3dee3-0b58-4ddb-b71a-cb627ed163f3</td>\n",
       "      <td>RFID_patient_tracker</td>\n",
       "      <td>location_tracking</td>\n",
       "      <td>location_tracking_device</td>\n",
       "      <td>Ward</td>\n",
       "      <td>2025-06-22T22:24:55.435760</td>\n",
       "      <td>73.66</td>\n",
       "      <td>%</td>\n",
       "      <td>idle</td>\n",
       "      <td>Sensitive</td>\n",
       "    </tr>\n",
       "    <tr>\n",
       "      <th>1</th>\n",
       "      <td>953120f5-d9e7-43cf-8cfa-e041c8ac2bd9</td>\n",
       "      <td>RFID_patient_tracker</td>\n",
       "      <td>location_tracking</td>\n",
       "      <td>location_tracking_device</td>\n",
       "      <td>Ward</td>\n",
       "      <td>2025-06-25T14:54:55.435890</td>\n",
       "      <td>ON</td>\n",
       "      <td>°C</td>\n",
       "      <td>idle</td>\n",
       "      <td>Sensitive</td>\n",
       "    </tr>\n",
       "    <tr>\n",
       "      <th>2</th>\n",
       "      <td>6d6f46f1-f524-4a2a-9f22-e0c474d26a0e</td>\n",
       "      <td>temperature_sensor</td>\n",
       "      <td>temperature</td>\n",
       "      <td>temperature_device</td>\n",
       "      <td>Server Room</td>\n",
       "      <td>2025-06-20T13:30:55.436043</td>\n",
       "      <td>18.15</td>\n",
       "      <td>%</td>\n",
       "      <td>active</td>\n",
       "      <td>Non-sensitive</td>\n",
       "    </tr>\n",
       "    <tr>\n",
       "      <th>3</th>\n",
       "      <td>b542fadc-8b2a-4452-8ce4-c6768934fb5a</td>\n",
       "      <td>humidity_sensor</td>\n",
       "      <td>environmental</td>\n",
       "      <td>environmental_device</td>\n",
       "      <td>Data Center</td>\n",
       "      <td>2025-06-22T07:48:55.436438</td>\n",
       "      <td>ON</td>\n",
       "      <td>bpm</td>\n",
       "      <td>offline</td>\n",
       "      <td>Non-sensitive</td>\n",
       "    </tr>\n",
       "    <tr>\n",
       "      <th>4</th>\n",
       "      <td>b6fa9848-fbc6-4f12-b638-343c04cfc280</td>\n",
       "      <td>temperature_sensor</td>\n",
       "      <td>temperature</td>\n",
       "      <td>temperature_device</td>\n",
       "      <td>Server Room</td>\n",
       "      <td>2025-06-23T13:29:55.436903</td>\n",
       "      <td>OFF</td>\n",
       "      <td>lux</td>\n",
       "      <td>idle</td>\n",
       "      <td>Non-sensitive</td>\n",
       "    </tr>\n",
       "  </tbody>\n",
       "</table>\n",
       "</div>"
      ]
     },
     "execution_count": 1,
     "metadata": {},
     "output_type": "execute_result"
    }
   ],
   "execution_count": 1
  },
  {
   "cell_type": "markdown",
   "id": "eead218481a2a683",
   "metadata": {},
   "source": [
    "## Prepare Features and Labels"
   ]
  },
  {
   "cell_type": "code",
   "id": "17918fc2812a85e9",
   "metadata": {
    "ExecuteTime": {
     "end_time": "2025-06-25T19:17:15.791418Z",
     "start_time": "2025-06-25T19:17:15.784370Z"
    }
   },
   "source": [
    "features = [\"sensor_name\", \"sensor_type\", \"device_type\", \"location\"]\n",
    "target = \"sensitivity_label\"\n",
    "\n",
    "\n",
    "X = df[features]\n",
    "y = df[target]"
   ],
   "outputs": [],
   "execution_count": 3
  },
  {
   "metadata": {},
   "cell_type": "markdown",
   "source": "## Build Preprocessing and Model Pipelines",
   "id": "e764eb7cec5a443d"
  },
  {
   "metadata": {
    "ExecuteTime": {
     "end_time": "2025-06-25T19:18:05.326065Z",
     "start_time": "2025-06-25T19:18:03.878895Z"
    }
   },
   "cell_type": "code",
   "source": [
    "from sklearn.compose import ColumnTransformer\n",
    "from sklearn.preprocessing import OneHotEncoder\n",
    "from sklearn.tree import DecisionTreeClassifier\n",
    "from sklearn.pipeline import Pipeline\n",
    "\n",
    "# One-hot encoding for categorical features\n",
    "preprocessor = ColumnTransformer(\n",
    "    transformers=[(\"cat\", OneHotEncoder(handle_unknown=\"ignore\"), features)]\n",
    ")\n",
    "\n",
    "# Combine preprocessing with model\n",
    "pipeline = Pipeline(steps=[\n",
    "    (\"preprocessor\", preprocessor),\n",
    "    (\"classifier\", DecisionTreeClassifier(random_state=42))\n",
    "])\n"
   ],
   "id": "4d83c53704219af9",
   "outputs": [],
   "execution_count": 4
  },
  {
   "metadata": {},
   "cell_type": "markdown",
   "source": "## Train and Evaluate the Model",
   "id": "71b4fa113d32a417"
  },
  {
   "metadata": {
    "ExecuteTime": {
     "end_time": "2025-06-25T19:18:48.616613Z",
     "start_time": "2025-06-25T19:18:48.572483Z"
    }
   },
   "cell_type": "code",
   "source": [
    "from sklearn.model_selection import train_test_split\n",
    "from sklearn.metrics import classification_report\n",
    "\n",
    "# Split the data\n",
    "X_train, X_test, y_train, y_test = train_test_split(X, y, test_size=0.2, random_state=42)\n",
    "\n",
    "# Fit the model\n",
    "pipeline.fit(X_train, y_train)\n",
    "\n",
    "# Predict and evaluate\n",
    "y_pred = pipeline.predict(X_test)\n",
    "print(classification_report(y_test, y_pred))\n"
   ],
   "id": "cfed78801c7bf02f",
   "outputs": [
    {
     "name": "stdout",
     "output_type": "stream",
     "text": [
      "               precision    recall  f1-score   support\n",
      "\n",
      "Non-sensitive       1.00      1.00      1.00        20\n",
      "    Sensitive       1.00      1.00      1.00        20\n",
      "\n",
      "     accuracy                           1.00        40\n",
      "    macro avg       1.00      1.00      1.00        40\n",
      " weighted avg       1.00      1.00      1.00        40\n",
      "\n"
     ]
    }
   ],
   "execution_count": 5
  },
  {
   "metadata": {},
   "cell_type": "markdown",
   "source": "## Save the Trained Model",
   "id": "4ea28b44f3ed9a2f"
  },
  {
   "metadata": {
    "ExecuteTime": {
     "end_time": "2025-06-25T19:20:11.752880Z",
     "start_time": "2025-06-25T19:20:11.739201Z"
    }
   },
   "cell_type": "code",
   "source": [
    "import joblib\n",
    "\n",
    "# Save the trained pipeline\n",
    "joblib.dump(pipeline, \"models/iot_sensitivity_model.joblib\")\n"
   ],
   "id": "17b5406cdcf6354a",
   "outputs": [
    {
     "data": {
      "text/plain": [
       "['models/iot_sensitivity_model.joblib']"
      ]
     },
     "execution_count": 6,
     "metadata": {},
     "output_type": "execute_result"
    }
   ],
   "execution_count": 6
  },
  {
   "metadata": {},
   "cell_type": "markdown",
   "source": "#",
   "id": "a5e957954246149e"
  }
 ],
 "metadata": {
  "kernelspec": {
   "display_name": "Python 3",
   "language": "python",
   "name": "python3"
  },
  "language_info": {
   "codemirror_mode": {
    "name": "ipython",
    "version": 2
   },
   "file_extension": ".py",
   "mimetype": "text/x-python",
   "name": "python",
   "nbconvert_exporter": "python",
   "pygments_lexer": "ipython2",
   "version": "2.7.6"
  }
 },
 "nbformat": 4,
 "nbformat_minor": 5
}

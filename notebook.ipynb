{
 "cells": [
  {
   "metadata": {},
   "cell_type": "markdown",
   "source": [
    "# This is a sample Jupyter Notebook\n",
    "\n",
    "Below is an example of a code cell. \n",
    "Put your cursor into the cell and press Shift+Enter to execute it and select the next one, or click 'Run Cell' button.\n",
    "\n",
    "Press Double Shift to search everywhere for classes, files, tool windows, actions, and settings.\n",
    "\n",
    "To learn more about Jupyter Notebooks in PyCharm, see [help](https://www.jetbrains.com/help/pycharm/ipython-notebook-support.html).\n",
    "For an overview of PyCharm, go to Help -> Learn IDE features or refer to [our documentation](https://www.jetbrains.com/help/pycharm/getting-started.html)."
   ],
   "id": "8a77807f92f26ee"
  },
  {
   "metadata": {},
   "cell_type": "markdown",
   "source": "# Importing Libraries",
   "id": "f06202626f54a94c"
  },
  {
   "metadata": {
    "ExecuteTime": {
     "end_time": "2025-06-27T16:30:59.690892Z",
     "start_time": "2025-06-27T16:30:57.311483Z"
    }
   },
   "cell_type": "code",
   "source": [
    "from sklearn.datasets import load_iris\n",
    "from sklearn.model_selection import train_test_split\n",
    "from sklearn.linear_model import LogisticRegression\n",
    "from sklearn.metrics import accuracy_score, classification_report\n"
   ],
   "id": "fbc121e30a2defb3",
   "outputs": [],
   "execution_count": 1
  },
  {
   "metadata": {},
   "cell_type": "markdown",
   "source": "# Loading and preparing data",
   "id": "f211fae2ec42a8b6"
  },
  {
   "metadata": {},
   "cell_type": "markdown",
   "source": "## Load the Iris dataset",
   "id": "bf090f9b30e843d4"
  },
  {
   "metadata": {
    "ExecuteTime": {
     "end_time": "2025-06-27T16:30:59.765882Z",
     "start_time": "2025-06-27T16:30:59.722560Z"
    }
   },
   "cell_type": "code",
   "source": [
    "\n",
    "iris = load_iris()\n",
    "X = iris.data\n",
    "y = iris.target\n",
    "\n"
   ],
   "id": "c03c1b98318d6ad7",
   "outputs": [],
   "execution_count": 2
  },
  {
   "metadata": {},
   "cell_type": "markdown",
   "source": [
    "\n",
    "## For binary classification, select only two classes (0 and 1)\n"
   ],
   "id": "773c3acf748894dd"
  },
  {
   "metadata": {
    "ExecuteTime": {
     "end_time": "2025-06-27T16:31:07.011249Z",
     "start_time": "2025-06-27T16:31:06.984068Z"
    }
   },
   "cell_type": "code",
   "source": [
    "binary_mask = y < 2\n",
    "X_binary = X[binary_mask]\n",
    "y_binary = y[binary_mask]\n"
   ],
   "id": "ac3c382523845dfa",
   "outputs": [],
   "execution_count": 3
  }
 ],
 "metadata": {
  "kernelspec": {
   "display_name": "Python 3",
   "language": "python",
   "name": "python3"
  },
  "language_info": {
   "codemirror_mode": {
    "name": "ipython",
    "version": 2
   },
   "file_extension": ".py",
   "mimetype": "text/x-python",
   "name": "python",
   "nbconvert_exporter": "python",
   "pygments_lexer": "ipython2",
   "version": "2.7.6"
  }
 },
 "nbformat": 4,
 "nbformat_minor": 5
}
